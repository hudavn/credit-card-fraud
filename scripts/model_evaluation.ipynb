{
 "cells": [
  {
   "cell_type": "markdown",
   "id": "c54447db",
   "metadata": {},
   "source": [
    "# Model evaluation\n",
    "In this notebook, we will preprocess the data, sample, divide the dataset, and finally test the models to find the best one."
   ]
  }
 ],
 "metadata": {
  "kernelspec": {
   "display_name": "Python 3 (ipykernel)",
   "language": "python",
   "name": "python3"
  },
  "language_info": {
   "codemirror_mode": {
    "name": "ipython",
    "version": 3
   },
   "file_extension": ".py",
   "mimetype": "text/x-python",
   "name": "python",
   "nbconvert_exporter": "python",
   "pygments_lexer": "ipython3",
   "version": "3.9.7"
  }
 },
 "nbformat": 4,
 "nbformat_minor": 5
}
